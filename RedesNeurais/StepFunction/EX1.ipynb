{
 "cells": [
  {
   "cell_type": "code",
   "execution_count": 1,
   "metadata": {},
   "outputs": [
    {
     "name": "stdout",
     "output_type": "stream",
     "text": [
      "Peso Atualizado: 0.0\n",
      "Peso Atualizado: 0.0\n",
      "Peso Atualizado: 0.0\n",
      "Peso Atualizado: 0.0\n",
      "Peso Atualizado: 0.0\n",
      "Peso Atualizado: 0.0\n",
      "Peso Atualizado: 0.1\n",
      "Peso Atualizado: 0.1\n",
      "Total de erros: 1\n",
      "Rede neural treinada\n",
      "0\n",
      "0\n",
      "0\n",
      "0\n"
     ]
    }
   ],
   "source": [
    "from math import radians\n",
    "import numpy as np\n",
    "\n",
    "entradas = np.array( [  [0,0],\n",
    "                        [0,1],\n",
    "                        [1,0],\n",
    "                        [1,1]])\n",
    "\n",
    "saidas = np.array ( [ 0,0,0,1 ])\n",
    "pesos = np.array ( [ 0.0, 0.0])\n",
    "taxaAprendizagem = 0.1\n",
    "\n",
    "def stepFunction(soma):\n",
    "    if(soma >= 1):\n",
    "        return 1\n",
    "    return 0\n",
    "\n",
    "def calculaSaida(dataSet):\n",
    "    s = dataSet.dot(pesos)\n",
    "    return stepFunction(s)\n",
    "\n",
    "def treinar():\n",
    "    erroTotal = 1\n",
    "    while (erroTotal != 0):\n",
    "        erroTotal = 0\n",
    "    for i in range(len(saidas)):\n",
    "        saidaCalculada = calculaSaida(np.asarray(entradas[i]))\n",
    "        erro = saidas[i] - saidaCalculada\n",
    "        erroTotal += erro\n",
    "        for j in range(len(pesos)):\n",
    "            pesos[j] = pesos[j] + (taxaAprendizagem * entradas [i][j] * erro)\n",
    "            print('Peso Atualizado: ' + str(pesos[j]))\n",
    "    print('Total de erros: ' + str(erroTotal))\n",
    "\n",
    "treinar()\n",
    "print('Rede neural treinada')\n",
    "print(calculaSaida(entradas[0]))\n",
    "print(calculaSaida(entradas[1]))\n",
    "print(calculaSaida(entradas[2]))\n",
    "print(calculaSaida(entradas[3]))"
   ]
  }
 ],
 "metadata": {
  "interpreter": {
   "hash": "2be5faf79681da6f2a61fdfdd5405d65d042280f7fba6178067603e3a2925119"
  },
  "kernelspec": {
   "display_name": "Python 3.10.2 64-bit",
   "language": "python",
   "name": "python3"
  },
  "language_info": {
   "codemirror_mode": {
    "name": "ipython",
    "version": 3
   },
   "file_extension": ".py",
   "mimetype": "text/x-python",
   "name": "python",
   "nbconvert_exporter": "python",
   "pygments_lexer": "ipython3",
   "version": "3.10.2"
  },
  "orig_nbformat": 4
 },
 "nbformat": 4,
 "nbformat_minor": 2
}
